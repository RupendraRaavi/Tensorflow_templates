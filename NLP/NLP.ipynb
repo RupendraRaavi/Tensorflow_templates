{
 "cells": [
  {
   "cell_type": "code",
   "execution_count": 1,
   "id": "7d5c4c38",
   "metadata": {},
   "outputs": [],
   "source": [
    "import tensorflow as tf\n",
    "\n",
    "import pandas as pd\n",
    "\n",
    "import numpy as np\n",
    "\n"
   ]
  },
  {
   "cell_type": "code",
   "execution_count": 2,
   "id": "f2a896b6",
   "metadata": {},
   "outputs": [],
   "source": [
    "my_data = pd.read_csv('train.csv')"
   ]
  },
  {
   "cell_type": "markdown",
   "id": "29529704",
   "metadata": {},
   "source": [
    "## Selecting the required columns"
   ]
  },
  {
   "cell_type": "code",
   "execution_count": 9,
   "id": "74fc8a22",
   "metadata": {},
   "outputs": [],
   "source": [
    "my_data_use = my_data.iloc[:,2:]"
   ]
  },
  {
   "cell_type": "code",
   "execution_count": 10,
   "id": "b12a4a8b",
   "metadata": {},
   "outputs": [
    {
     "data": {
      "text/html": [
       "<div>\n",
       "<style scoped>\n",
       "    .dataframe tbody tr th:only-of-type {\n",
       "        vertical-align: middle;\n",
       "    }\n",
       "\n",
       "    .dataframe tbody tr th {\n",
       "        vertical-align: top;\n",
       "    }\n",
       "\n",
       "    .dataframe thead th {\n",
       "        text-align: right;\n",
       "    }\n",
       "</style>\n",
       "<table border=\"1\" class=\"dataframe\">\n",
       "  <thead>\n",
       "    <tr style=\"text-align: right;\">\n",
       "      <th></th>\n",
       "      <th>selected_text</th>\n",
       "      <th>sentiment</th>\n",
       "    </tr>\n",
       "  </thead>\n",
       "  <tbody>\n",
       "    <tr>\n",
       "      <th>0</th>\n",
       "      <td>I`d have responded, if I were going</td>\n",
       "      <td>neutral</td>\n",
       "    </tr>\n",
       "    <tr>\n",
       "      <th>1</th>\n",
       "      <td>Sooo SAD</td>\n",
       "      <td>negative</td>\n",
       "    </tr>\n",
       "    <tr>\n",
       "      <th>2</th>\n",
       "      <td>bullying me</td>\n",
       "      <td>negative</td>\n",
       "    </tr>\n",
       "    <tr>\n",
       "      <th>3</th>\n",
       "      <td>leave me alone</td>\n",
       "      <td>negative</td>\n",
       "    </tr>\n",
       "    <tr>\n",
       "      <th>4</th>\n",
       "      <td>Sons of ****,</td>\n",
       "      <td>negative</td>\n",
       "    </tr>\n",
       "    <tr>\n",
       "      <th>...</th>\n",
       "      <td>...</td>\n",
       "      <td>...</td>\n",
       "    </tr>\n",
       "    <tr>\n",
       "      <th>27476</th>\n",
       "      <td>d lost</td>\n",
       "      <td>negative</td>\n",
       "    </tr>\n",
       "    <tr>\n",
       "      <th>27477</th>\n",
       "      <td>, don`t force</td>\n",
       "      <td>negative</td>\n",
       "    </tr>\n",
       "    <tr>\n",
       "      <th>27478</th>\n",
       "      <td>Yay good for both of you.</td>\n",
       "      <td>positive</td>\n",
       "    </tr>\n",
       "    <tr>\n",
       "      <th>27479</th>\n",
       "      <td>But it was worth it  ****.</td>\n",
       "      <td>positive</td>\n",
       "    </tr>\n",
       "    <tr>\n",
       "      <th>27480</th>\n",
       "      <td>All this flirting going on - The ATG smiles. Y...</td>\n",
       "      <td>neutral</td>\n",
       "    </tr>\n",
       "  </tbody>\n",
       "</table>\n",
       "<p>27481 rows × 2 columns</p>\n",
       "</div>"
      ],
      "text/plain": [
       "                                           selected_text sentiment\n",
       "0                    I`d have responded, if I were going   neutral\n",
       "1                                               Sooo SAD  negative\n",
       "2                                            bullying me  negative\n",
       "3                                         leave me alone  negative\n",
       "4                                          Sons of ****,  negative\n",
       "...                                                  ...       ...\n",
       "27476                                             d lost  negative\n",
       "27477                                      , don`t force  negative\n",
       "27478                          Yay good for both of you.  positive\n",
       "27479                         But it was worth it  ****.  positive\n",
       "27480  All this flirting going on - The ATG smiles. Y...   neutral\n",
       "\n",
       "[27481 rows x 2 columns]"
      ]
     },
     "execution_count": 10,
     "metadata": {},
     "output_type": "execute_result"
    }
   ],
   "source": [
    "my_data_use"
   ]
  },
  {
   "cell_type": "markdown",
   "id": "014a2f34",
   "metadata": {},
   "source": [
    "## Shuffling the data to make sure model doesn't train in a bias way"
   ]
  },
  {
   "cell_type": "code",
   "execution_count": 43,
   "id": "6d283846",
   "metadata": {},
   "outputs": [],
   "source": [
    "train_shuffled = my_data_use.sample(frac = 1, random_state = 42)"
   ]
  },
  {
   "cell_type": "code",
   "execution_count": 44,
   "id": "2ebcc98a",
   "metadata": {
    "collapsed": true
   },
   "outputs": [
    {
     "data": {
      "text/html": [
       "<div>\n",
       "<style scoped>\n",
       "    .dataframe tbody tr th:only-of-type {\n",
       "        vertical-align: middle;\n",
       "    }\n",
       "\n",
       "    .dataframe tbody tr th {\n",
       "        vertical-align: top;\n",
       "    }\n",
       "\n",
       "    .dataframe thead th {\n",
       "        text-align: right;\n",
       "    }\n",
       "</style>\n",
       "<table border=\"1\" class=\"dataframe\">\n",
       "  <thead>\n",
       "    <tr style=\"text-align: right;\">\n",
       "      <th></th>\n",
       "      <th>selected_text</th>\n",
       "      <th>sentiment</th>\n",
       "    </tr>\n",
       "  </thead>\n",
       "  <tbody>\n",
       "    <tr>\n",
       "      <th>1588</th>\n",
       "      <td>t?  lovelovelove</td>\n",
       "      <td>positive</td>\n",
       "    </tr>\n",
       "    <tr>\n",
       "      <th>23879</th>\n",
       "      <td>resting had a whole day of walking</td>\n",
       "      <td>neutral</td>\n",
       "    </tr>\n",
       "    <tr>\n",
       "      <th>6561</th>\n",
       "      <td>was in Palawan a couple of days ago, i`ll try ...</td>\n",
       "      <td>neutral</td>\n",
       "    </tr>\n",
       "    <tr>\n",
       "      <th>2602</th>\n",
       "      <td>horrible.</td>\n",
       "      <td>negative</td>\n",
       "    </tr>\n",
       "    <tr>\n",
       "      <th>4003</th>\n",
       "      <td>glad</td>\n",
       "      <td>positive</td>\n",
       "    </tr>\n",
       "    <tr>\n",
       "      <th>...</th>\n",
       "      <td>...</td>\n",
       "      <td>...</td>\n",
       "    </tr>\n",
       "    <tr>\n",
       "      <th>21575</th>\n",
       "      <td>STAR TREK WAS PURE AWESOME! LOVE IT!!! &lt;3333  ...</td>\n",
       "      <td>positive</td>\n",
       "    </tr>\n",
       "    <tr>\n",
       "      <th>5390</th>\n",
       "      <td>Will be going to Indiana Baptist Sunday, Pray ...</td>\n",
       "      <td>neutral</td>\n",
       "    </tr>\n",
       "    <tr>\n",
       "      <th>860</th>\n",
       "      <td>is sitting thru the boring bits in Titanic wai...</td>\n",
       "      <td>neutral</td>\n",
       "    </tr>\n",
       "    <tr>\n",
       "      <th>15795</th>\n",
       "      <td>Missed the play</td>\n",
       "      <td>negative</td>\n",
       "    </tr>\n",
       "    <tr>\n",
       "      <th>23654</th>\n",
       "      <td>tired</td>\n",
       "      <td>negative</td>\n",
       "    </tr>\n",
       "  </tbody>\n",
       "</table>\n",
       "<p>27481 rows × 2 columns</p>\n",
       "</div>"
      ],
      "text/plain": [
       "                                           selected_text sentiment\n",
       "1588                                    t?  lovelovelove  positive\n",
       "23879                 resting had a whole day of walking   neutral\n",
       "6561   was in Palawan a couple of days ago, i`ll try ...   neutral\n",
       "2602                                           horrible.  negative\n",
       "4003                                                glad  positive\n",
       "...                                                  ...       ...\n",
       "21575  STAR TREK WAS PURE AWESOME! LOVE IT!!! <3333  ...  positive\n",
       "5390   Will be going to Indiana Baptist Sunday, Pray ...   neutral\n",
       "860    is sitting thru the boring bits in Titanic wai...   neutral\n",
       "15795                                    Missed the play  negative\n",
       "23654                                              tired  negative\n",
       "\n",
       "[27481 rows x 2 columns]"
      ]
     },
     "execution_count": 44,
     "metadata": {},
     "output_type": "execute_result"
    }
   ],
   "source": [
    "train_shuffled"
   ]
  },
  {
   "cell_type": "code",
   "execution_count": 24,
   "id": "20a58cc1",
   "metadata": {
    "collapsed": true
   },
   "outputs": [
    {
     "data": {
      "text/html": [
       "<div>\n",
       "<style scoped>\n",
       "    .dataframe tbody tr th:only-of-type {\n",
       "        vertical-align: middle;\n",
       "    }\n",
       "\n",
       "    .dataframe tbody tr th {\n",
       "        vertical-align: top;\n",
       "    }\n",
       "\n",
       "    .dataframe thead th {\n",
       "        text-align: right;\n",
       "    }\n",
       "</style>\n",
       "<table border=\"1\" class=\"dataframe\">\n",
       "  <thead>\n",
       "    <tr style=\"text-align: right;\">\n",
       "      <th></th>\n",
       "      <th>selected_text</th>\n",
       "      <th>sentiment</th>\n",
       "    </tr>\n",
       "  </thead>\n",
       "  <tbody>\n",
       "    <tr>\n",
       "      <th>1588</th>\n",
       "      <td>t?  lovelovelove</td>\n",
       "      <td>positive</td>\n",
       "    </tr>\n",
       "    <tr>\n",
       "      <th>23879</th>\n",
       "      <td>resting had a whole day of walking</td>\n",
       "      <td>neutral</td>\n",
       "    </tr>\n",
       "    <tr>\n",
       "      <th>6561</th>\n",
       "      <td>was in Palawan a couple of days ago, i`ll try ...</td>\n",
       "      <td>neutral</td>\n",
       "    </tr>\n",
       "    <tr>\n",
       "      <th>2602</th>\n",
       "      <td>horrible.</td>\n",
       "      <td>negative</td>\n",
       "    </tr>\n",
       "    <tr>\n",
       "      <th>4003</th>\n",
       "      <td>glad</td>\n",
       "      <td>positive</td>\n",
       "    </tr>\n",
       "    <tr>\n",
       "      <th>...</th>\n",
       "      <td>...</td>\n",
       "      <td>...</td>\n",
       "    </tr>\n",
       "    <tr>\n",
       "      <th>21575</th>\n",
       "      <td>STAR TREK WAS PURE AWESOME! LOVE IT!!! &lt;3333  ...</td>\n",
       "      <td>positive</td>\n",
       "    </tr>\n",
       "    <tr>\n",
       "      <th>5390</th>\n",
       "      <td>Will be going to Indiana Baptist Sunday, Pray ...</td>\n",
       "      <td>neutral</td>\n",
       "    </tr>\n",
       "    <tr>\n",
       "      <th>860</th>\n",
       "      <td>is sitting thru the boring bits in Titanic wai...</td>\n",
       "      <td>neutral</td>\n",
       "    </tr>\n",
       "    <tr>\n",
       "      <th>15795</th>\n",
       "      <td>Missed the play</td>\n",
       "      <td>negative</td>\n",
       "    </tr>\n",
       "    <tr>\n",
       "      <th>23654</th>\n",
       "      <td>tired</td>\n",
       "      <td>negative</td>\n",
       "    </tr>\n",
       "  </tbody>\n",
       "</table>\n",
       "<p>27481 rows × 2 columns</p>\n",
       "</div>"
      ],
      "text/plain": [
       "                                           selected_text sentiment\n",
       "1588                                    t?  lovelovelove  positive\n",
       "23879                 resting had a whole day of walking   neutral\n",
       "6561   was in Palawan a couple of days ago, i`ll try ...   neutral\n",
       "2602                                           horrible.  negative\n",
       "4003                                                glad  positive\n",
       "...                                                  ...       ...\n",
       "21575  STAR TREK WAS PURE AWESOME! LOVE IT!!! <3333  ...  positive\n",
       "5390   Will be going to Indiana Baptist Sunday, Pray ...   neutral\n",
       "860    is sitting thru the boring bits in Titanic wai...   neutral\n",
       "15795                                    Missed the play  negative\n",
       "23654                                              tired  negative\n",
       "\n",
       "[27481 rows x 2 columns]"
      ]
     },
     "execution_count": 24,
     "metadata": {},
     "output_type": "execute_result"
    }
   ],
   "source": [
    "train_shuffled"
   ]
  },
  {
   "cell_type": "markdown",
   "id": "e2c5d01a",
   "metadata": {},
   "source": [
    "## Using label encoder to convert the output categorical values to numerical values "
   ]
  },
  {
   "cell_type": "code",
   "execution_count": null,
   "id": "ca9d126a",
   "metadata": {},
   "outputs": [],
   "source": [
    "from sklearn.preprocessing import LabelEncoder\n",
    "label_encoder = LabelEncoder()\n",
    "train_shuffled['sentiment'] = label_encoder.fit_transform(train_shuffled['sentiment'].to_numpy())\n",
    "#val_labels_encoded = label_encoder.transform(valid_labels.to_numpy())"
   ]
  },
  {
   "cell_type": "markdown",
   "id": "09d785c3",
   "metadata": {},
   "source": [
    "## Removing the stop words -- Example by using nltk library"
   ]
  },
  {
   "cell_type": "code",
   "execution_count": 20,
   "id": "530c2b01",
   "metadata": {},
   "outputs": [
    {
     "name": "stdout",
     "output_type": "stream",
     "text": [
      "['i', 'me', 'my', 'myself', 'we', 'our', 'ours', 'ourselves', 'you', \"you're\", \"you've\", \"you'll\", \"you'd\", 'your', 'yours', 'yourself', 'yourselves', 'he', 'him', 'his', 'himself', 'she', \"she's\", 'her', 'hers', 'herself', 'it', \"it's\", 'its', 'itself', 'they', 'them', 'their', 'theirs', 'themselves', 'what', 'which', 'who', 'whom', 'this', 'that', \"that'll\", 'these', 'those', 'am', 'is', 'are', 'was', 'were', 'be', 'been', 'being', 'have', 'has', 'had', 'having', 'do', 'does', 'did', 'doing', 'a', 'an', 'the', 'and', 'but', 'if', 'or', 'because', 'as', 'until', 'while', 'of', 'at', 'by', 'for', 'with', 'about', 'against', 'between', 'into', 'through', 'during', 'before', 'after', 'above', 'below', 'to', 'from', 'up', 'down', 'in', 'out', 'on', 'off', 'over', 'under', 'again', 'further', 'then', 'once', 'here', 'there', 'when', 'where', 'why', 'how', 'all', 'any', 'both', 'each', 'few', 'more', 'most', 'other', 'some', 'such', 'no', 'nor', 'not', 'only', 'own', 'same', 'so', 'than', 'too', 'very', 's', 't', 'can', 'will', 'just', 'don', \"don't\", 'should', \"should've\", 'now', 'd', 'll', 'm', 'o', 're', 've', 'y', 'ain', 'aren', \"aren't\", 'couldn', \"couldn't\", 'didn', \"didn't\", 'doesn', \"doesn't\", 'hadn', \"hadn't\", 'hasn', \"hasn't\", 'haven', \"haven't\", 'isn', \"isn't\", 'ma', 'mightn', \"mightn't\", 'mustn', \"mustn't\", 'needn', \"needn't\", 'shan', \"shan't\", 'shouldn', \"shouldn't\", 'wasn', \"wasn't\", 'weren', \"weren't\", 'won', \"won't\", 'wouldn', \"wouldn't\"]\n"
     ]
    }
   ],
   "source": [
    "import nltk\n",
    "from nltk.corpus import stopwords\n",
    "sw_nltk = stopwords.words('english')\n",
    "print(sw_nltk)"
   ]
  },
  {
   "cell_type": "code",
   "execution_count": 21,
   "id": "f0191bb5",
   "metadata": {},
   "outputs": [
    {
     "data": {
      "text/plain": [
       "179"
      ]
     },
     "execution_count": 21,
     "metadata": {},
     "output_type": "execute_result"
    }
   ],
   "source": [
    "len(sw_nltk)"
   ]
  },
  {
   "cell_type": "code",
   "execution_count": 22,
   "id": "804a2a6f",
   "metadata": {},
   "outputs": [
    {
     "name": "stdout",
     "output_type": "stream",
     "text": [
      "first met quiet. remained quiet entire two hour long journey Stony Brook New York.\n",
      "Old length:  129\n",
      "New length:  82\n"
     ]
    }
   ],
   "source": [
    "text = \"When I first met her she was very quiet. She remained quiet during the entire two hour long journey from Stony Brook to New York.\"\n",
    "words = [word for word in text.split() if word.lower() not in sw_nltk]\n",
    "new_text = \" \".join(words)\n",
    "print(new_text)\n",
    "print(\"Old length: \", len(text))\n",
    "print(\"New length: \", len(new_text))"
   ]
  },
  {
   "cell_type": "markdown",
   "id": "a469ea76",
   "metadata": {},
   "source": [
    "## Applying NLTK- stopwords on our data"
   ]
  },
  {
   "cell_type": "markdown",
   "id": "11245dc8",
   "metadata": {},
   "source": [
    "### Removing the numbers since without removing number we can't remove stop words "
   ]
  },
  {
   "cell_type": "code",
   "execution_count": 51,
   "id": "38ae3848",
   "metadata": {},
   "outputs": [],
   "source": [
    "for i, n in enumerate( train_shuffled['selected_text']):\n",
    "    train_shuffled['selected_text'][i] = ''.join([i for i in n if not i.isdigit()])"
   ]
  },
  {
   "cell_type": "code",
   "execution_count": 81,
   "id": "ebef9ea8",
   "metadata": {
    "collapsed": true
   },
   "outputs": [
    {
     "data": {
      "text/plain": [
       "1588      [_, n,  , w, e, l, l,  ,  , e,  , c, u, l, n, `]\n",
       "23879    [n,  , c, p, u, e, r,  , c, l, ,,  , p, h,  , ...\n",
       "6561                                             [n, c, e]\n",
       "2602                  [c, n,  , w,  ,  , h, v, e,  , f, .]\n",
       "4003                                 [r, e, l, l,  , n, k]\n",
       "                               ...                        \n",
       "21575    [h, h, h, h, h, !, !,  ,  , w, u, l,  , b, e, ...\n",
       "5390                                             [u, c, k]\n",
       "860                               [h, n, k,  , c, l, r, ,]\n",
       "15795    [T, r, f, f, c,  , b, c, k, e,  , u, p,  , n, ...\n",
       "23654              [T, h, n, k,  , r, l, n, g,  , g, r, l]\n",
       "Name: selected_text, Length: 27481, dtype: object"
      ]
     },
     "execution_count": 81,
     "metadata": {},
     "output_type": "execute_result"
    }
   ],
   "source": [
    "train_shuffled['selected_text'].apply(lambda x: [item for item in x if item not in sw_nltk])"
   ]
  },
  {
   "cell_type": "markdown",
   "id": "5511663a",
   "metadata": {},
   "source": [
    "## Splitting the data into train and test "
   ]
  },
  {
   "cell_type": "code",
   "execution_count": 105,
   "id": "24b692f3",
   "metadata": {},
   "outputs": [],
   "source": [
    "from sklearn.model_selection import train_test_split\n",
    "\n",
    "train_sentences , val_sentences , train_labels , val_labels = train_test_split(train_shuffled['selected_text'].to_numpy(),\n",
    "                                                                              train_shuffled['sentiment'].to_numpy(),\n",
    "                                                                              test_size = 0.1, # 10 percent training\n",
    "                                                                              random_state = 42) \n"
   ]
  },
  {
   "cell_type": "code",
   "execution_count": 87,
   "id": "3b8da667",
   "metadata": {},
   "outputs": [
    {
     "data": {
      "text/plain": [
       "(2749, 2749)"
      ]
     },
     "execution_count": 87,
     "metadata": {},
     "output_type": "execute_result"
    }
   ],
   "source": [
    "len(val_sentences) , len(val_labels)"
   ]
  },
  {
   "cell_type": "markdown",
   "id": "7b78ccb5",
   "metadata": {},
   "source": [
    "# Tokenizing - Converting the text into numbers"
   ]
  },
  {
   "cell_type": "code",
   "execution_count": 90,
   "id": "f6fa2592",
   "metadata": {},
   "outputs": [],
   "source": [
    "from tensorflow.keras.layers.experimental.preprocessing import TextVectorization\n",
    "\n",
    "# Set up tex vectorization varaibles\n",
    "\n",
    "max_vocab_length = 10000\n",
    "\n",
    "max_length = 15 # how many words can a tweet see\n",
    "\n",
    "\n",
    "text_vectorizer = TextVectorization(max_tokens = max_vocab_length,\n",
    "                                  standardize='lower_and_strip_punctuation',\n",
    "                                   output_mode = 'int',\n",
    "                                   output_sequence_length = max_length)\n",
    "\n",
    "\n",
    "\n"
   ]
  },
  {
   "cell_type": "code",
   "execution_count": 97,
   "id": "83cbf16c",
   "metadata": {},
   "outputs": [],
   "source": [
    "from tensorflow.keras import layers\n",
    "\n",
    "text_vectorizer.adapt(train_sentences)"
   ]
  },
  {
   "cell_type": "markdown",
   "id": "768f029a",
   "metadata": {},
   "source": [
    "### Creating the embedding layer "
   ]
  },
  {
   "cell_type": "code",
   "execution_count": 98,
   "id": "820f207f",
   "metadata": {},
   "outputs": [],
   "source": [
    "embedding = layers.Embedding(input_dim = max_vocab_length,\n",
    "                            output_dim = 128, # It should be multiple of 8 can be more (more value for less powerd) as per GPU computation power\n",
    "                            input_length = max_length) # Length the value should be)"
   ]
  },
  {
   "cell_type": "markdown",
   "id": "fb9ec9dc",
   "metadata": {},
   "source": [
    "### A metrics function is created to evaluate the machine learning model later "
   ]
  },
  {
   "cell_type": "code",
   "execution_count": 99,
   "id": "5e4ee6b9",
   "metadata": {},
   "outputs": [],
   "source": [
    "from sklearn.metrics import accuracy_score, precision_score , recall_score , f1_score\n",
    "def metrics(y_true, y_pred):\n",
    "    Accuracy = accuracy_score(y_true, y_pred)\n",
    "    Precision = precision_score(y_true, y_pred)\n",
    "    Recall = recall_score(y_true, y_pred)\n",
    "    f1score = f1_score(y_true, y_pred)\n",
    "    \n",
    "    return {f'Accuracy :{float(Accuracy*100)}',f'Precision:{Precision}',f'Recall: {Recall}',f'f1score: {f1score}'}"
   ]
  },
  {
   "cell_type": "markdown",
   "id": "befe33d1",
   "metadata": {},
   "source": [
    "## Model - 1 With LSTM"
   ]
  },
  {
   "cell_type": "code",
   "execution_count": 140,
   "id": "a61ed73b",
   "metadata": {},
   "outputs": [],
   "source": [
    "from tensorflow.keras import layers\n",
    "\n",
    "inputs = layers.Input(shape= (1,), dtype = 'string')\n",
    "\n",
    "x = text_vectorizer(inputs)\n",
    "\n",
    "x = embedding(x)\n",
    "\n",
    "#x = layers.LSTM(64, return_sequences = True)(x)\n",
    "\n",
    "\n",
    "x = layers.LSTM(64)(x)\n",
    "\n",
    "x = layers.Dense(64, activation = 'relu') (x)\n",
    "\n",
    "\n",
    "outputs = layers.Dense(3, activation = 'softmax') (x)\n",
    "\n",
    "model_1 = tf.keras.Model(inputs , outputs , name = 'model_1_lstm')"
   ]
  },
  {
   "cell_type": "code",
   "execution_count": 141,
   "id": "4ca4a993",
   "metadata": {
    "collapsed": true
   },
   "outputs": [
    {
     "name": "stdout",
     "output_type": "stream",
     "text": [
      "Model: \"model_1_lstm\"\n",
      "_________________________________________________________________\n",
      " Layer (type)                Output Shape              Param #   \n",
      "=================================================================\n",
      " input_8 (InputLayer)        [(None, 1)]               0         \n",
      "                                                                 \n",
      " text_vectorization (TextVec  (None, 15)               0         \n",
      " torization)                                                     \n",
      "                                                                 \n",
      " embedding (Embedding)       (None, 15, 128)           1280000   \n",
      "                                                                 \n",
      " lstm_12 (LSTM)              (None, 64)                49408     \n",
      "                                                                 \n",
      " dense_14 (Dense)            (None, 64)                4160      \n",
      "                                                                 \n",
      " dense_15 (Dense)            (None, 3)                 195       \n",
      "                                                                 \n",
      "=================================================================\n",
      "Total params: 1,333,763\n",
      "Trainable params: 1,333,763\n",
      "Non-trainable params: 0\n",
      "_________________________________________________________________\n"
     ]
    }
   ],
   "source": [
    "model_1.summary()"
   ]
  },
  {
   "cell_type": "code",
   "execution_count": 142,
   "id": "b5094f19",
   "metadata": {},
   "outputs": [],
   "source": [
    "model_1.compile(loss = tf.keras.losses.SparseCategoricalCrossentropy(),\n",
    "             optimizer = tf.keras.optimizers.Adam(learning_rate=0.01,),\n",
    "             metrics = ['Accuracy'])"
   ]
  },
  {
   "cell_type": "code",
   "execution_count": 143,
   "id": "faae4e09",
   "metadata": {
    "collapsed": true
   },
   "outputs": [
    {
     "name": "stdout",
     "output_type": "stream",
     "text": [
      "Epoch 1/10\n",
      "773/773 [==============================] - 5s 6ms/step - loss: 1.0321 - Accuracy: 0.4534 - val_loss: 1.1662 - val_Accuracy: 0.3579\n",
      "Epoch 2/10\n",
      "773/773 [==============================] - 4s 5ms/step - loss: 0.9723 - Accuracy: 0.4895 - val_loss: 1.2703 - val_Accuracy: 0.3660\n",
      "Epoch 3/10\n",
      "773/773 [==============================] - 4s 5ms/step - loss: 0.9339 - Accuracy: 0.5031 - val_loss: 1.2776 - val_Accuracy: 0.3907\n",
      "Epoch 4/10\n",
      "773/773 [==============================] - 4s 5ms/step - loss: 0.9162 - Accuracy: 0.5094 - val_loss: 1.3737 - val_Accuracy: 0.3747\n",
      "Epoch 5/10\n",
      "773/773 [==============================] - 4s 5ms/step - loss: 0.9086 - Accuracy: 0.5143 - val_loss: 1.3806 - val_Accuracy: 0.3619\n",
      "Epoch 6/10\n",
      "773/773 [==============================] - 4s 5ms/step - loss: 0.9039 - Accuracy: 0.5092 - val_loss: 1.3772 - val_Accuracy: 0.3721\n",
      "Epoch 7/10\n",
      "773/773 [==============================] - 4s 5ms/step - loss: 0.9006 - Accuracy: 0.5155 - val_loss: 1.3919 - val_Accuracy: 0.3794\n",
      "Epoch 8/10\n",
      "773/773 [==============================] - 4s 5ms/step - loss: 0.8972 - Accuracy: 0.5118 - val_loss: 1.3924 - val_Accuracy: 0.3619\n",
      "Epoch 9/10\n",
      "773/773 [==============================] - 4s 5ms/step - loss: 0.8956 - Accuracy: 0.5144 - val_loss: 1.4959 - val_Accuracy: 0.3678\n",
      "Epoch 10/10\n",
      "773/773 [==============================] - 4s 5ms/step - loss: 0.8963 - Accuracy: 0.5120 - val_loss: 1.4754 - val_Accuracy: 0.3663\n"
     ]
    }
   ],
   "source": [
    "model_1_history = model_1.fit(x = train_sentences,\n",
    "                              y = train_labels,\n",
    "                             epochs = 10,\n",
    "                             validation_data = (val_sentences, val_labels)\n",
    "                             )\n",
    "                             "
   ]
  },
  {
   "cell_type": "code",
   "execution_count": 144,
   "id": "840ffe3b",
   "metadata": {},
   "outputs": [
    {
     "name": "stdout",
     "output_type": "stream",
     "text": [
      "86/86 [==============================] - 0s 6ms/step - loss: 1.4754 - Accuracy: 0.3663\n"
     ]
    },
    {
     "data": {
      "text/plain": [
       "[1.4753963947296143, 0.3663150370121002]"
      ]
     },
     "execution_count": 144,
     "metadata": {},
     "output_type": "execute_result"
    }
   ],
   "source": [
    "model_1.evaluate(val_sentences, val_labels)"
   ]
  },
  {
   "cell_type": "markdown",
   "id": "bfa665af",
   "metadata": {},
   "source": [
    "# Model - 2 With GRU"
   ]
  },
  {
   "cell_type": "code",
   "execution_count": 149,
   "id": "12f4cf17",
   "metadata": {},
   "outputs": [],
   "source": [
    "inputs = layers.Input(shape= (1,), dtype = 'string')\n",
    "\n",
    "x = text_vectorizer(inputs)\n",
    "\n",
    "x = embedding(x)\n",
    "\n",
    "#x = layers.LSTM(64, return_sequences = True)(x)\n",
    "\n",
    "\n",
    "x = layers.GRU(64)(x)\n",
    "\n",
    "x = layers.Dense(64, activation = 'relu') (x)\n",
    "\n",
    "x = layers.Dropout(0.2) (x)\n",
    "\n",
    "x = layers.Dense(64, activation = 'relu') (x)\n",
    "\n",
    "outputs = layers.Dense(3, activation = 'softmax') (x)\n",
    "\n",
    "model_2 = tf.keras.Model(inputs , outputs , name = 'model_1_lstm')"
   ]
  },
  {
   "cell_type": "code",
   "execution_count": 150,
   "id": "d387ed4b",
   "metadata": {
    "collapsed": true
   },
   "outputs": [
    {
     "name": "stdout",
     "output_type": "stream",
     "text": [
      "Model: \"model_1_lstm\"\n",
      "_________________________________________________________________\n",
      " Layer (type)                Output Shape              Param #   \n",
      "=================================================================\n",
      " input_12 (InputLayer)       [(None, 1)]               0         \n",
      "                                                                 \n",
      " text_vectorization (TextVec  (None, 15)               0         \n",
      " torization)                                                     \n",
      "                                                                 \n",
      " embedding (Embedding)       (None, 15, 128)           1280000   \n",
      "                                                                 \n",
      " gru_3 (GRU)                 (None, 64)                37248     \n",
      "                                                                 \n",
      " dense_22 (Dense)            (None, 64)                4160      \n",
      "                                                                 \n",
      " dropout_3 (Dropout)         (None, 64)                0         \n",
      "                                                                 \n",
      " dense_23 (Dense)            (None, 64)                4160      \n",
      "                                                                 \n",
      " dense_24 (Dense)            (None, 3)                 195       \n",
      "                                                                 \n",
      "=================================================================\n",
      "Total params: 1,325,763\n",
      "Trainable params: 1,325,763\n",
      "Non-trainable params: 0\n",
      "_________________________________________________________________\n"
     ]
    }
   ],
   "source": [
    "model_2.summary()"
   ]
  },
  {
   "cell_type": "code",
   "execution_count": 151,
   "id": "5efd3793",
   "metadata": {
    "collapsed": true
   },
   "outputs": [
    {
     "name": "stdout",
     "output_type": "stream",
     "text": [
      "Epoch 1/10\n",
      "773/773 [==============================] - 6s 6ms/step - loss: 0.9947 - Accuracy: 0.4746 - val_loss: 1.2882 - val_Accuracy: 0.3667\n",
      "Epoch 2/10\n",
      "773/773 [==============================] - 4s 5ms/step - loss: 0.9453 - Accuracy: 0.4966 - val_loss: 1.3266 - val_Accuracy: 0.3714\n",
      "Epoch 3/10\n",
      "773/773 [==============================] - 4s 5ms/step - loss: 0.9304 - Accuracy: 0.4998 - val_loss: 1.4135 - val_Accuracy: 0.3721\n",
      "Epoch 4/10\n",
      "773/773 [==============================] - 4s 5ms/step - loss: 0.9194 - Accuracy: 0.4999 - val_loss: 1.5325 - val_Accuracy: 0.3736\n",
      "Epoch 5/10\n",
      "773/773 [==============================] - 4s 5ms/step - loss: 0.9107 - Accuracy: 0.5018 - val_loss: 1.4595 - val_Accuracy: 0.3900\n",
      "Epoch 6/10\n",
      "773/773 [==============================] - 4s 5ms/step - loss: 0.9066 - Accuracy: 0.5080 - val_loss: 1.5514 - val_Accuracy: 0.3823\n",
      "Epoch 7/10\n",
      "773/773 [==============================] - 4s 5ms/step - loss: 0.9042 - Accuracy: 0.5073 - val_loss: 1.4820 - val_Accuracy: 0.3780\n",
      "Epoch 8/10\n",
      "773/773 [==============================] - 4s 5ms/step - loss: 0.9003 - Accuracy: 0.5052 - val_loss: 1.5768 - val_Accuracy: 0.3816\n",
      "Epoch 9/10\n",
      "773/773 [==============================] - 4s 5ms/step - loss: 0.9008 - Accuracy: 0.5077 - val_loss: 1.5502 - val_Accuracy: 0.3790\n",
      "Epoch 10/10\n",
      "773/773 [==============================] - 4s 5ms/step - loss: 0.8986 - Accuracy: 0.5063 - val_loss: 1.4510 - val_Accuracy: 0.3790\n"
     ]
    }
   ],
   "source": [
    "model_2.compile(loss = tf.keras.losses.SparseCategoricalCrossentropy(),\n",
    "             optimizer = tf.keras.optimizers.Adam(learning_rate=0.01,),\n",
    "             metrics = ['Accuracy'])\n",
    "\n",
    "model_2_history = model_2.fit(x = train_sentences,\n",
    "                              y = train_labels,\n",
    "                             epochs = 10,\n",
    "                             validation_data = (val_sentences, val_labels)\n",
    "                             )\n",
    "                             "
   ]
  },
  {
   "cell_type": "code",
   "execution_count": 152,
   "id": "3fa24fdc",
   "metadata": {},
   "outputs": [
    {
     "name": "stdout",
     "output_type": "stream",
     "text": [
      "86/86 [==============================] - 0s 4ms/step - loss: 1.4510 - Accuracy: 0.3790\n"
     ]
    },
    {
     "data": {
      "text/plain": [
       "[1.4510115385055542, 0.3790469169616699]"
      ]
     },
     "execution_count": 152,
     "metadata": {},
     "output_type": "execute_result"
    }
   ],
   "source": [
    "model_2.evaluate(val_sentences, val_labels)"
   ]
  },
  {
   "cell_type": "code",
   "execution_count": 154,
   "id": "5b367c4a",
   "metadata": {
    "collapsed": true
   },
   "outputs": [
    {
     "data": {
      "image/png": "[encoded data removed]",
      "text/plain": [
       "<Figure size 432x288 with 1 Axes>"
      ]
     },
     "metadata": {
      "needs_background": "light"
     },
     "output_type": "display_data"
    }
   ],
   "source": [
    "a = pd.DataFrame(model_2_history.history)\n",
    "c = a.loc[:,['Accuracy','val_Accuracy']].plot(title = 'Not_normalized')"
   ]
  },
  {
   "cell_type": "markdown",
   "id": "b2a4dfcf",
   "metadata": {},
   "source": [
    "# Model - 3 _ Conv1D"
   ]
  },
  {
   "cell_type": "code",
   "execution_count": 155,
   "id": "7e55fcf7",
   "metadata": {},
   "outputs": [],
   "source": [
    "inputs = layers.Input(shape = (1,), dtype = tf.string)\n",
    "\n",
    "x = text_vectorizer(inputs)\n",
    "\n",
    "x = embedding(x)\n",
    "\n",
    "#x = layers.Dense(100, activation = 'relu')\n",
    "\n",
    "x = layers.Conv1D(32,3, activation = 'relu') (x)\n",
    "\n",
    "x = layers.GlobalAveragePooling1D()(x)\n",
    "\n",
    "\n",
    "x = layers.Dense(100, activation = 'relu')(x)\n",
    "\n",
    "x = layers.Dense(100, activation = 'relu')(x)\n",
    "\n",
    "\n",
    "outputs = layers.Dense(3 , activation = 'softmax')(x)\n",
    "\n",
    "model_3 = tf.keras.Model(inputs, outputs , name = 'model_3')"
   ]
  },
  {
   "cell_type": "code",
   "execution_count": 156,
   "id": "cdded88a",
   "metadata": {
    "collapsed": true
   },
   "outputs": [
    {
     "name": "stdout",
     "output_type": "stream",
     "text": [
      "Model: \"model_3\"\n",
      "_________________________________________________________________\n",
      " Layer (type)                Output Shape              Param #   \n",
      "=================================================================\n",
      " input_13 (InputLayer)       [(None, 1)]               0         \n",
      "                                                                 \n",
      " text_vectorization (TextVec  (None, 15)               0         \n",
      " torization)                                                     \n",
      "                                                                 \n",
      " embedding (Embedding)       (None, 15, 128)           1280000   \n",
      "                                                                 \n",
      " conv1d (Conv1D)             (None, 13, 32)            12320     \n",
      "                                                                 \n",
      " global_average_pooling1d (G  (None, 32)               0         \n",
      " lobalAveragePooling1D)                                          \n",
      "                                                                 \n",
      " dense_25 (Dense)            (None, 100)               3300      \n",
      "                                                                 \n",
      " dense_26 (Dense)            (None, 100)               10100     \n",
      "                                                                 \n",
      " dense_27 (Dense)            (None, 3)                 303       \n",
      "                                                                 \n",
      "=================================================================\n",
      "Total params: 1,306,023\n",
      "Trainable params: 1,306,023\n",
      "Non-trainable params: 0\n",
      "_________________________________________________________________\n"
     ]
    }
   ],
   "source": [
    "model_3.summary()"
   ]
  },
  {
   "cell_type": "code",
   "execution_count": 157,
   "id": "06acb8c2",
   "metadata": {
    "collapsed": true
   },
   "outputs": [
    {
     "name": "stdout",
     "output_type": "stream",
     "text": [
      "Epoch 1/10\n",
      "773/773 [==============================] - 7s 4ms/step - loss: 0.9843 - Accuracy: 0.4761 - val_loss: 1.3385 - val_Accuracy: 0.3918\n",
      "Epoch 2/10\n",
      "773/773 [==============================] - 3s 4ms/step - loss: 0.9142 - Accuracy: 0.5038 - val_loss: 1.4118 - val_Accuracy: 0.3820\n",
      "Epoch 3/10\n",
      "773/773 [==============================] - 3s 4ms/step - loss: 0.8839 - Accuracy: 0.5123 - val_loss: 1.6014 - val_Accuracy: 0.3616\n",
      "Epoch 4/10\n",
      "773/773 [==============================] - 3s 4ms/step - loss: 0.8612 - Accuracy: 0.5163 - val_loss: 1.9994 - val_Accuracy: 0.3718\n",
      "Epoch 5/10\n",
      "773/773 [==============================] - 4s 5ms/step - loss: 0.8523 - Accuracy: 0.5208 - val_loss: 1.7941 - val_Accuracy: 0.3656\n",
      "Epoch 6/10\n",
      "773/773 [==============================] - 3s 4ms/step - loss: 0.8361 - Accuracy: 0.5217 - val_loss: 2.1331 - val_Accuracy: 0.3860\n",
      "Epoch 7/10\n",
      "773/773 [==============================] - 3s 5ms/step - loss: 0.8314 - Accuracy: 0.5263 - val_loss: 2.1052 - val_Accuracy: 0.3841\n",
      "Epoch 8/10\n",
      "773/773 [==============================] - 3s 4ms/step - loss: 0.8220 - Accuracy: 0.5290 - val_loss: 2.6852 - val_Accuracy: 0.3790\n",
      "Epoch 9/10\n",
      "773/773 [==============================] - 3s 4ms/step - loss: 0.8197 - Accuracy: 0.5306 - val_loss: 2.3456 - val_Accuracy: 0.3769\n",
      "Epoch 10/10\n",
      "773/773 [==============================] - 4s 5ms/step - loss: 0.8159 - Accuracy: 0.5368 - val_loss: 2.3281 - val_Accuracy: 0.3718\n"
     ]
    }
   ],
   "source": [
    "model_3.compile(loss = tf.keras.losses.SparseCategoricalCrossentropy(),\n",
    "             optimizer = tf.keras.optimizers.Adam(learning_rate=0.01,),\n",
    "             metrics = ['Accuracy'])\n",
    "\n",
    "model_3_history = model_3.fit(x = train_sentences,\n",
    "                              y = train_labels,\n",
    "                             epochs = 10,\n",
    "                             validation_data = (val_sentences, val_labels)\n",
    "                             )\n",
    "                             "
   ]
  },
  {
   "cell_type": "code",
   "execution_count": 158,
   "id": "9b592d31",
   "metadata": {
    "collapsed": true
   },
   "outputs": [
    {
     "data": {
      "image/png": "[encoded data removed]",
      "text/plain": [
       "<Figure size 432x288 with 1 Axes>"
      ]
     },
     "metadata": {
      "needs_background": "light"
     },
     "output_type": "display_data"
    }
   ],
   "source": [
    "a = pd.DataFrame(model_3_history.history)\n",
    "c = a.loc[:,['Accuracy','val_Accuracy']].plot(title = 'Not_normalized')"
   ]
  },
  {
   "cell_type": "markdown",
   "id": "5e20b3c9",
   "metadata": {},
   "source": [
    "# Using the universal encoder"
   ]
  },
  {
   "cell_type": "code",
   "execution_count": 160,
   "id": "20b95772",
   "metadata": {},
   "outputs": [],
   "source": [
    "import tensorflow_hub as hub\n",
    "\n",
    "sentence_encoder_layer = hub.KerasLayer('https://tfhub.dev/google/universal-sentence-encoder/4',\n",
    "                                       input_shape = [],\n",
    "                                       dtype = tf.string,\n",
    "                                        trainable = False,\n",
    "                                        name ='USE')"
   ]
  },
  {
   "cell_type": "code",
   "execution_count": 161,
   "id": "cc846e73",
   "metadata": {},
   "outputs": [],
   "source": [
    "inputs = layers.Input(shape = (), dtype = tf.string, name = 'input_layer')\n",
    "\n",
    "x = sentence_encoder_layer(inputs)\n",
    "\n",
    "x = layers.Dense(64, activation = 'relu') (x)\n",
    "\n",
    "x = layers.Dropout(0.1)(x)\n",
    "\n",
    "x = layers.Dense(64, activation = 'relu') (x)\n",
    "\n",
    "outputs = layers.Dense(3 , activation = 'softmax')(x)\n",
    "\n",
    "\n",
    "model_4 = tf.keras.Model(inputs, outputs , name = 'model_4')"
   ]
  },
  {
   "cell_type": "code",
   "execution_count": 162,
   "id": "f9801b13",
   "metadata": {
    "collapsed": true
   },
   "outputs": [
    {
     "name": "stdout",
     "output_type": "stream",
     "text": [
      "Model: \"model_4\"\n",
      "_________________________________________________________________\n",
      " Layer (type)                Output Shape              Param #   \n",
      "=================================================================\n",
      " input_layer (InputLayer)    [(None,)]                 0         \n",
      "                                                                 \n",
      " USE (KerasLayer)            (None, 512)               256797824 \n",
      "                                                                 \n",
      " dense_28 (Dense)            (None, 64)                32832     \n",
      "                                                                 \n",
      " dropout_4 (Dropout)         (None, 64)                0         \n",
      "                                                                 \n",
      " dense_29 (Dense)            (None, 64)                4160      \n",
      "                                                                 \n",
      " dense_30 (Dense)            (None, 3)                 195       \n",
      "                                                                 \n",
      "=================================================================\n",
      "Total params: 256,835,011\n",
      "Trainable params: 37,187\n",
      "Non-trainable params: 256,797,824\n",
      "_________________________________________________________________\n"
     ]
    }
   ],
   "source": [
    "model_4.summary()"
   ]
  },
  {
   "cell_type": "code",
   "execution_count": 163,
   "id": "c75f7ea7",
   "metadata": {
    "collapsed": true
   },
   "outputs": [
    {
     "name": "stdout",
     "output_type": "stream",
     "text": [
      "Epoch 1/10\n",
      "773/773 [==============================] - 12s 13ms/step - loss: 1.0893 - Accuracy: 0.4032 - val_loss: 1.0847 - val_Accuracy: 0.4096\n",
      "Epoch 2/10\n",
      "773/773 [==============================] - 10s 13ms/step - loss: 1.0888 - Accuracy: 0.4034 - val_loss: 1.0852 - val_Accuracy: 0.4096\n",
      "Epoch 3/10\n",
      "773/773 [==============================] - 10s 12ms/step - loss: 1.0882 - Accuracy: 0.4033 - val_loss: 1.0849 - val_Accuracy: 0.4100\n",
      "Epoch 4/10\n",
      "773/773 [==============================] - 10s 12ms/step - loss: 1.0876 - Accuracy: 0.4045 - val_loss: 1.0851 - val_Accuracy: 0.4096\n",
      "Epoch 5/10\n",
      "773/773 [==============================] - 10s 12ms/step - loss: 1.0871 - Accuracy: 0.4037 - val_loss: 1.0843 - val_Accuracy: 0.4096\n",
      "Epoch 6/10\n",
      "773/773 [==============================] - 10s 12ms/step - loss: 1.0863 - Accuracy: 0.4038 - val_loss: 1.0861 - val_Accuracy: 0.4096\n",
      "Epoch 7/10\n",
      "773/773 [==============================] - 10s 12ms/step - loss: 1.0852 - Accuracy: 0.4043 - val_loss: 1.0882 - val_Accuracy: 0.4096\n",
      "Epoch 8/10\n",
      "773/773 [==============================] - 10s 12ms/step - loss: 1.0842 - Accuracy: 0.4038 - val_loss: 1.0879 - val_Accuracy: 0.4096\n",
      "Epoch 9/10\n",
      "773/773 [==============================] - 10s 12ms/step - loss: 1.0820 - Accuracy: 0.4044 - val_loss: 1.1020 - val_Accuracy: 0.4096\n",
      "Epoch 10/10\n",
      "773/773 [==============================] - 10s 13ms/step - loss: 1.0804 - Accuracy: 0.4039 - val_loss: 1.1076 - val_Accuracy: 0.4089\n"
     ]
    }
   ],
   "source": [
    "model_4.compile(loss = tf.keras.losses.SparseCategoricalCrossentropy(),\n",
    "             optimizer = tf.keras.optimizers.Adam(learning_rate=0.01,),\n",
    "             metrics = ['Accuracy'])\n",
    "\n",
    "model_4_history = model_4.fit(x = train_sentences,\n",
    "                              y = train_labels,\n",
    "                             epochs = 10,\n",
    "                             validation_data = (val_sentences, val_labels)\n",
    "                             )\n",
    "                             "
   ]
  },
  {
   "cell_type": "code",
   "execution_count": 164,
   "id": "0e0f8867",
   "metadata": {},
   "outputs": [
    {
     "data": {
      "text/plain": [
       "2749"
      ]
     },
     "execution_count": 164,
     "metadata": {},
     "output_type": "execute_result"
    }
   ],
   "source": [
    "len(val_sentences)"
   ]
  },
  {
   "cell_type": "code",
   "execution_count": 165,
   "id": "077260a6",
   "metadata": {},
   "outputs": [
    {
     "data": {
      "text/plain": [
       "2749"
      ]
     },
     "execution_count": 165,
     "metadata": {},
     "output_type": "execute_result"
    }
   ],
   "source": [
    "len(val_labels)"
   ]
  }
 ],
 "metadata": {
  "kernelspec": {
   "display_name": "Python 3 (ipykernel)",
   "language": "python",
   "name": "python3"
  },
  "language_info": {
   "codemirror_mode": {
    "name": "ipython",
    "version": 3
   },
   "file_extension": ".py",
   "mimetype": "text/x-python",
   "name": "python",
   "nbconvert_exporter": "python",
   "pygments_lexer": "ipython3",
   "version": "3.9.0"
  }
 },
 "nbformat": 4,
 "nbformat_minor": 5
}
